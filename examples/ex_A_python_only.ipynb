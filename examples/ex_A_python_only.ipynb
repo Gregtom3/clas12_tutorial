{
 "cells": [
  {
   "cell_type": "code",
   "execution_count": 1,
   "id": "fourth-decline",
   "metadata": {},
   "outputs": [
    {
     "name": "stderr",
     "output_type": "stream",
     "text": [
      "Matplotlib created a temporary config/cache directory at /tmp/matplotlib-eeiqdwli because the default path (/home/jovyan/.cache/matplotlib) is not a writable directory; it is highly recommended to set the MPLCONFIGDIR environment variable to a writable directory, in particular to speed up the import of Matplotlib and to better support multiprocessing.\n"
     ]
    },
    {
     "name": "stdout",
     "output_type": "stream",
     "text": [
      "Welcome to JupyROOT 6.22/06\n"
     ]
    }
   ],
   "source": [
    "\"\"\"\n",
    " Import statements\n",
    "\"\"\"\n",
    "\n",
    "import hipopy.hipopy # <--- Package for reading in the hipo files\n",
    "import numpy as np\n",
    "import matplotlib.pyplot as plt\n",
    "from matplotlib import rc\n",
    "import ROOT\n",
    "\n",
    "# Set LaTeX font for Matplotlib\n",
    "rc('text', usetex=True)\n"
   ]
  },
  {
   "cell_type": "markdown",
   "id": "empty-macintosh",
   "metadata": {},
   "source": [
    "---\n",
    "\n",
    "Loading the hipo file using `hipopy`\n"
   ]
  },
  {
   "cell_type": "code",
   "execution_count": 2,
   "id": "running-financing",
   "metadata": {},
   "outputs": [
    {
     "name": "stdout",
     "output_type": "stream",
     "text": [
      "REC::Particle data \n",
      "====================================================================================================\n"
     ]
    },
    {
     "data": {
      "text/plain": [
       "{'pid': 'I',\n",
       " 'px': 'F',\n",
       " 'py': 'F',\n",
       " 'pz': 'F',\n",
       " 'vx': 'F',\n",
       " 'vy': 'F',\n",
       " 'vz': 'F',\n",
       " 'vt': 'F',\n",
       " 'charge': 'B',\n",
       " 'beta': 'F',\n",
       " 'chi2pid': 'F',\n",
       " 'status': 'S'}"
      ]
     },
     "metadata": {},
     "output_type": "display_data"
    },
    {
     "name": "stdout",
     "output_type": "stream",
     "text": [
      "==================================================================================================== \n",
      "REC::Calorimeter data \n",
      "====================================================================================================\n"
     ]
    },
    {
     "data": {
      "text/plain": [
       "{'index': 'S',\n",
       " 'pindex': 'S',\n",
       " 'detector': 'B',\n",
       " 'sector': 'B',\n",
       " 'layer': 'B',\n",
       " 'energy': 'F',\n",
       " 'time': 'F',\n",
       " 'path': 'F',\n",
       " 'chi2': 'F',\n",
       " 'x': 'F',\n",
       " 'y': 'F',\n",
       " 'z': 'F',\n",
       " 'hx': 'F',\n",
       " 'hy': 'F',\n",
       " 'hz': 'F',\n",
       " 'lu': 'F',\n",
       " 'lv': 'F',\n",
       " 'lw': 'F',\n",
       " 'du': 'F',\n",
       " 'dv': 'F',\n",
       " 'dw': 'F',\n",
       " 'm2u': 'F',\n",
       " 'm2v': 'F',\n",
       " 'm2w': 'F',\n",
       " 'm3u': 'F',\n",
       " 'm3v': 'F',\n",
       " 'm3w': 'F',\n",
       " 'status': 'S'}"
      ]
     },
     "metadata": {},
     "output_type": "display_data"
    },
    {
     "name": "stdout",
     "output_type": "stream",
     "text": [
      "compression type = 0 data length = 157529\n"
     ]
    }
   ],
   "source": [
    "\n",
    "\n",
    "filename = \"/cache/clas12/rg-a/production/recon/fall2018/torus-1/pass1/v1/dst/train/nSidis/nSidis_005032.hipo\"\n",
    "\n",
    "\n",
    "hipo_file = hipopy.hipopy.open(filename,mode='r')\n",
    "\n",
    "\n",
    "# Read the REC::Particle and REC::Calorimeter banks\n",
    "hipo_file.readBank('REC::Particle')\n",
    "hipo_file.readBank('REC::Calorimeter')\n",
    "\n",
    "# Showing the data types inside each bank\n",
    "print(\"REC::Particle data\",\"\\n\"+100*\"=\")\n",
    "display(hipo_file.getNamesAndTypes('REC::Particle'))\n",
    "print(100*\"=\",\"\\nREC::Calorimeter data\",\"\\n\"+100*\"=\")\n",
    "display(hipo_file.getNamesAndTypes('REC::Calorimeter'))"
   ]
  },
  {
   "cell_type": "markdown",
   "id": "separated-champagne",
   "metadata": {},
   "source": [
    "---\n",
    "Here, we set the maximum number of events it analyze. This way we do not wait too long for the code to finish processing"
   ]
  },
  {
   "cell_type": "code",
   "execution_count": 15,
   "id": "desirable-medline",
   "metadata": {},
   "outputs": [],
   "source": [
    "Nevents = 3000"
   ]
  },
  {
   "cell_type": "markdown",
   "id": "meaningful-malta",
   "metadata": {},
   "source": [
    "---\n",
    "We define some functions for calculating the event variables, along with a few constants"
   ]
  },
  {
   "cell_type": "code",
   "execution_count": 16,
   "id": "average-transcript",
   "metadata": {},
   "outputs": [],
   "source": [
    "Mp = 0.938272 # proton mass, GeV\n",
    "Me = 0.000511 # electron mass, GeV\n",
    "beamE = 10.6041 # electron beam energy for Fall2018 RG-A, GeV\n",
    "\n",
    "vec_eIn = ROOT.TLorentzVector(0,0,np.sqrt(beamE**2-Me**2),beamE) # Px, Py, Pz, E for initial electron\n",
    "vec_pIn = ROOT.TLorentzVector(0,0,0,Mp) # Px, Py, Pz, E for initial (at rest) proton\n",
    "\n",
    "# Formulas for calculating the event variables. All are functions of ROOT TLorentzVector objects\n",
    "# See (https://root.cern.ch/doc/master/classTLorentzVector.html)\n",
    "\n",
    "def calc_Q2(kf):\n",
    "    return -(vec_eIn-kf).M2()\n",
    "\n",
    "\n",
    "def calc_x(kf):\n",
    "    _Q2 = calc_Q2(kf)\n",
    "    _q  = vec_eIn-kf\n",
    "    return _Q2/(2*vec_pIn*_q)\n",
    "\n",
    "\n",
    "def calc_W(kf):\n",
    "    _q = vec_eIn-kf\n",
    "    return (_q+vec_pIn).M()\n",
    "\n",
    "def calc_y(kf):\n",
    "    _q = vec_eIn-kf\n",
    "    return (_q*vec_pIn)/(vec_eIn*vec_pIn)"
   ]
  },
  {
   "cell_type": "markdown",
   "id": "ideal-cooking",
   "metadata": {},
   "source": [
    "---\n",
    "Below we will define some lists containing key event/particle information that we will plot later. \n",
    "\n",
    "\n",
    "\n",
    "We then write the event loop...\n",
    "\n",
    "1. We read the momentums and particle ids from `REC::Particle` as arrays (each element of the array correspond to the value for that particle).\n",
    "\n",
    "2. We make sure that at least one electron is found. If not, we skip the event. \n",
    "\n",
    "3. Then, we find the electron in the event with the highest energy, ensuring it has at least 2.5 GeV (skipping otherwise). We label this as the scattered electron (good for now)\n",
    "\n",
    "4. Afterwards, we apply a basic PID enhancement cut on the scattered electron. We will make sure that it deposits at least 100 MeV in the Preshower Calorimeter. If it does not, we will toss the event and move onto the next one.\n",
    "\n",
    "5. If the electron passes our detector cut, we will append the particle and event information to our lists."
   ]
  },
  {
   "cell_type": "code",
   "execution_count": 17,
   "id": "opposed-brisbane",
   "metadata": {},
   "outputs": [],
   "source": [
    "ele_P_arr = []\n",
    "ele_Theta_arr = []\n",
    "ele_Phi_arr = []\n",
    "\n",
    "# See (http://www.physics.smu.edu/olness/ftp/misc2/cteq/2015/gaskell_dis_part1.pdf) for information/formulas\n",
    "x_arr = [] # Momentum fraction of struck quark\n",
    "Q2_arr = [] # Hard scale/resolution of process\n",
    "W_arr = [] # Invariant mass of the final hadronic system\n",
    "y_arr = [] # Inelasticity\n",
    "\n",
    "for i,_ in enumerate(hipo_file):\n",
    "    \n",
    "    # Exit loop after \"Nevents\" have been analyzed\n",
    "    if(i>Nevents):\n",
    "        break\n",
    "    \n",
    "    \n",
    "    \n",
    "    # Step 1. Read the momentums and particle ids from REC::Particle as arrays\n",
    "    px = np.array(hipo_file.getFloats(\"REC::Particle\", \"px\")) # Use getFloats because the \"px\" datatype is \"F\" , see first cell output after imports\n",
    "    py = np.array(hipo_file.getFloats(\"REC::Particle\", \"py\"))\n",
    "    pz = np.array(hipo_file.getFloats(\"REC::Particle\", \"pz\"))\n",
    "    pid = np.array(hipo_file.getInts(\"REC::Particle\", \"pid\"))    \n",
    "    \n",
    "    \n",
    "    \n",
    "    # Step 2. Find indices of pid==11 (electron) particles\n",
    "    indices_of_electrons = np.where(pid==11)[0]\n",
    "    \n",
    "    if indices_of_electrons.size == 0:\n",
    "        continue # No electrons in event\n",
    "    \n",
    "    \n",
    "    \n",
    "    # Step 3. Find the electron with the largest energy, toss it if the energy is less than 2.5 GeV\n",
    "    max_ele_energy = -1\n",
    "    idx_ele = -1\n",
    "    for index_of_electron in indices_of_electrons:\n",
    "        px_ele = px[index_of_electron]\n",
    "        py_ele = py[index_of_electron]\n",
    "        pz_ele = pz[index_of_electron]\n",
    "        p_ele = np.sqrt(px_ele**2+py_ele**2+pz_ele**2)\n",
    "        E_ele = np.sqrt(p_ele**2+Me**2)\n",
    "        \n",
    "        if(E_ele > max_ele_energy):\n",
    "            # This electron has a higher energy\n",
    "            max_ele_energy = E_ele\n",
    "            idx_ele = index_of_electron # Set this electron as the scattered\n",
    "    \n",
    "    if(max_ele_energy<2.5):\n",
    "        continue # Highest energy electron has too low of an energy\n",
    "    \n",
    "    \n",
    "    \n",
    "    # Step 4. Apply PCAL Edep > 0.1 GeV cut on the scattered electron\n",
    "    # --> pindex corresponds to the index of the particle in REC::Particle responsible for the calorimeter signal\n",
    "    # --> There are 3 calorimeters for CLAS12 (PCAL, ECIN, ECOUT) which have a different layer id (1,4,7)\n",
    "    # --> Use the same pindex as the scattered electron to find its PCAL energy dep\n",
    "    \n",
    "    \n",
    "    \n",
    "    cal_pindex = np.array(hipo_file.getShorts(\"REC::Calorimeter\",\"pindex\"))\n",
    "    cal_layer =  np.array(hipo_file.getBytes(\"REC::Calorimeter\",\"layer\"))\n",
    "    cal_energy = np.array(hipo_file.getFloats(\"REC::Calorimeter\",\"energy\"))\n",
    "    \n",
    "    # Find PCAL energy deposits for the scattered electron\n",
    "    scattered_cal_index = np.where((cal_pindex == idx_ele) & (cal_layer == 1))[0]\n",
    "    if len(scattered_cal_index) == 0:\n",
    "        continue  # Scattered electron doesn't have PCAL energy deposit\n",
    "\n",
    "    scattered_cal_energy = cal_energy[scattered_cal_index]\n",
    "    if scattered_cal_energy < 0.1:\n",
    "        continue  # PCAL energy deposit for scattered electron is less than 0.1 GeV\n",
    "\n",
    "        \n",
    "        \n",
    "    # Step 5. Calculate and append kinematics\n",
    "    kf = ROOT.TLorentzVector()\n",
    "    kf.SetXYZM(px[idx_ele],\n",
    "               py[idx_ele],\n",
    "               pz[idx_ele],\n",
    "               Me) # set scattered electron TLorentzVector\n",
    "    \n",
    "    ele_P = kf.P()\n",
    "    ele_Theta = kf.Theta()\n",
    "    ele_Phi = kf.Phi()\n",
    "\n",
    "    ele_P_arr.append(ele_P)\n",
    "    ele_Theta_arr.append(ele_Theta*180/np.pi)\n",
    "    ele_Phi_arr.append(ele_Phi*180/np.pi)\n",
    "\n",
    "    # Calculate and append kinematic variables\n",
    "    x = calc_x(kf)\n",
    "    Q2 = calc_Q2(kf)\n",
    "    W = calc_W(kf)\n",
    "    y = calc_y(kf)\n",
    "\n",
    "    x_arr.append(x)\n",
    "    Q2_arr.append(Q2)\n",
    "    W_arr.append(W)\n",
    "    y_arr.append(y)"
   ]
  },
  {
   "cell_type": "code",
   "execution_count": 18,
   "id": "laughing-tactics",
   "metadata": {},
   "outputs": [
    {
     "data": {
      "image/png": "[encoded data removed]",
      "text/plain": [
       "<Figure size 864x1080 with 8 Axes>"
      ]
     },
     "metadata": {
      "needs_background": "light"
     },
     "output_type": "display_data"
    }
   ],
   "source": [
    "nbins = 100\n",
    "\n",
    "# Create a grid of subplots\n",
    "fig, axs = plt.subplots(4, 2, figsize=(12, 15))\n",
    "\n",
    "# Adjust vertical spacing\n",
    "fig.subplots_adjust(hspace=0.5)\n",
    "\n",
    "# Plot ele_P_arr histogram\n",
    "axs[0, 0].hist(ele_P_arr, bins=nbins, edgecolor='black', linewidth=2)\n",
    "axs[0, 0].set_xlabel('Electron Momentum', fontsize=16)\n",
    "axs[0, 0].set_ylabel('Count', fontsize=16)\n",
    "axs[0, 0].tick_params(axis='both', which='major', labelsize=14)\n",
    "\n",
    "# Plot ele_Theta_arr histogram\n",
    "axs[0, 1].hist(ele_Theta_arr, bins=nbins, edgecolor='black', linewidth=2)\n",
    "axs[0, 1].set_xlabel(r'Electron $\\theta$', fontsize=20)\n",
    "axs[0, 1].set_ylabel('Count', fontsize=16)\n",
    "axs[0, 1].tick_params(axis='both', which='major', labelsize=14)\n",
    "\n",
    "# Plot ele_Phi_arr histogram\n",
    "axs[1, 0].hist(ele_Phi_arr, bins=nbins, edgecolor='black', linewidth=2)\n",
    "axs[1, 0].set_xlabel(r'Electron $\\phi$', fontsize=20)\n",
    "axs[1, 0].set_ylabel('Count', fontsize=16)\n",
    "axs[1, 0].tick_params(axis='both', which='major', labelsize=14)\n",
    "\n",
    "# Plot x_arr histogram\n",
    "axs[1, 1].hist(x_arr, bins=nbins, edgecolor='black', linewidth=2)\n",
    "axs[1, 1].set_xlabel('x', fontsize=16)\n",
    "axs[1, 1].set_ylabel('Count', fontsize=16)\n",
    "axs[1, 1].tick_params(axis='both', which='major', labelsize=14)\n",
    "\n",
    "# Plot Q2_arr histogram\n",
    "axs[2, 0].hist(Q2_arr, bins=nbins, edgecolor='black', linewidth=2)\n",
    "axs[2, 0].set_xlabel('$Q^2$ [GeV$^{2}$]', fontsize=16)\n",
    "axs[2, 0].set_ylabel('Count', fontsize=16)\n",
    "axs[2, 0].tick_params(axis='both', which='major', labelsize=14)\n",
    "\n",
    "# Plot W_arr histogram\n",
    "axs[2, 1].hist(W_arr, bins=nbins, edgecolor='black', linewidth=2)\n",
    "axs[2, 1].set_xlabel('Invariant Mass $W$ [GeV]', fontsize=16)\n",
    "axs[2, 1].set_ylabel('Count', fontsize=16)\n",
    "axs[2, 1].tick_params(axis='both', which='major', labelsize=14)\n",
    "\n",
    "# Plot y_arr histogram\n",
    "axs[3, 0].hist(y_arr, bins=nbins, edgecolor='black', linewidth=2)\n",
    "axs[3, 0].set_xlabel('Inelasticity $y$', fontsize=16)\n",
    "axs[3, 0].set_ylabel('Count', fontsize=16)\n",
    "axs[3, 0].tick_params(axis='both', which='major', labelsize=14)\n",
    "\n",
    "# Show the plot\n",
    "plt.show()"
   ]
  },
  {
   "cell_type": "code",
   "execution_count": null,
   "id": "informed-juvenile",
   "metadata": {},
   "outputs": [],
   "source": []
  }
 ],
 "metadata": {
  "kernelspec": {
   "display_name": "Python 3",
   "language": "python",
   "name": "python3"
  },
  "language_info": {
   "codemirror_mode": {
    "name": "ipython",
    "version": 3
   },
   "file_extension": ".py",
   "mimetype": "text/x-python",
   "name": "python",
   "nbconvert_exporter": "python",
   "pygments_lexer": "ipython3",
   "version": "3.8.6"
  }
 },
 "nbformat": 4,
 "nbformat_minor": 5
}
